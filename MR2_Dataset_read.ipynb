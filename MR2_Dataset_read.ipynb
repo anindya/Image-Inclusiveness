{
 "cells": [
  {
   "cell_type": "markdown",
   "metadata": {},
   "source": [
    "### MR2 Dataset creation"
   ]
  },
  {
   "cell_type": "code",
   "execution_count": 16,
   "metadata": {},
   "outputs": [],
   "source": [
    "import pandas as pd"
   ]
  },
  {
   "cell_type": "code",
   "execution_count": 17,
   "metadata": {},
   "outputs": [],
   "source": [
    "data_path = \"./faces\""
   ]
  },
  {
   "cell_type": "code",
   "execution_count": 21,
   "metadata": {},
   "outputs": [],
   "source": [
    "from os import listdir\n",
    "from os.path import isfile, join\n",
    "\n",
    "files = [f for f in listdir(data_path) if isfile(join(data_path, f))]\n",
    "\n",
    "dataset = []\n",
    "\n",
    "raceDict = {\n",
    "    \"w\" : \"European\",\n",
    "    \"a\" : \"Asian\",\n",
    "    \"b\" : \"Black\"\n",
    "}\n",
    "\n",
    "sexDict = {\n",
    "    \"f\" : \"Female\",\n",
    "    \"m\" : \"Male\"\n",
    "}\n",
    "\n",
    "for file in files:\n",
    "\n",
    "    name = file[0:4]\n",
    "    columns = {\n",
    "        \"name\" : name,\n",
    "        \"race\" : raceDict[name[0]],\n",
    "        \"sex\"  : sexDict[name[1]]\n",
    "    }\n",
    "    dataset.append(columns)\n",
    "pd.DataFrame(dataset).to_csv (\"dataset.csv\", index = False)"
   ]
  },
  {
   "cell_type": "code",
   "execution_count": null,
   "metadata": {},
   "outputs": [],
   "source": []
  },
  {
   "cell_type": "code",
   "execution_count": null,
   "metadata": {},
   "outputs": [],
   "source": []
  }
 ],
 "metadata": {
  "kernelspec": {
   "display_name": "Python 3",
   "language": "python",
   "name": "python3"
  },
  "language_info": {
   "codemirror_mode": {
    "name": "ipython",
    "version": 3
   },
   "file_extension": ".py",
   "mimetype": "text/x-python",
   "name": "python",
   "nbconvert_exporter": "python",
   "pygments_lexer": "ipython3",
   "version": "3.7.3"
  }
 },
 "nbformat": 4,
 "nbformat_minor": 4
}
