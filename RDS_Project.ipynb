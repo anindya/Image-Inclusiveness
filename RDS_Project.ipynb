{
 "cells": [
  {
   "cell_type": "markdown",
   "metadata": {},
   "source": [
    "### Responsible Data Science Course Project: Nutritional Labels for Automated Decision Systems\n",
    "\n",
    "Rohan Mahadev - rm5310, Anindya Chakravarti - ac8184"
   ]
  },
  {
   "cell_type": "code",
   "execution_count": 71,
   "metadata": {},
   "outputs": [],
   "source": [
    "import os\n",
    "import yaml\n",
    "import pickle\n",
    "import argparse\n",
    "\n",
    "import numpy as np\n",
    "import torch\n",
    "torch.backends.cudnn.benchmark=True\n",
    "from torch import nn\n",
    "from torch.nn import functional as F\n",
    "from torch.utils.data import DataLoader\n",
    "from PIL import Image\n",
    "\n",
    "from datasets import LabeledImages\n",
    "from models.se_resnet import se_resnet101\n",
    "# Helper functions to draw predictions:\n",
    "\n",
    "import torchvision.transforms as T\n",
    "import torchvision\n",
    "import pandas as pd\n",
    "\n",
    "from lime import lime_image\n",
    "\n",
    "from skimage.segmentation import mark_boundaries\n",
    "\n",
    "# import cv2\n",
    "import matplotlib.pyplot as plt\n",
    "%matplotlib inline\n",
    "device = torch.device('cuda') if torch.cuda.is_available() else torch.device('cpu')"
   ]
  },
  {
   "cell_type": "code",
   "execution_count": 80,
   "metadata": {},
   "outputs": [],
   "source": [
    "CONFIG_PATH = './config.yaml'\n",
    "MR2_FACES_DATA_PATH = \"./data/mr2_faces/\"\n",
    "MR2_DATASET_CSV_PATH = \"./data/dataset.csv\"\n",
    "PRED_KEY = \"Predicted Gender\"\n",
    "BASE_PRED_KEY = \"Baseline Prediction\"\n",
    "FLAGGED_KEY = \"Flagged\""
   ]
  },
  {
   "cell_type": "code",
   "execution_count": 38,
   "metadata": {},
   "outputs": [],
   "source": [
    "race = [\"Black\", \"Asian\", \"European\"]"
   ]
  },
  {
   "cell_type": "markdown",
   "metadata": {},
   "source": [
    "# ADS being evaluated"
   ]
  },
  {
   "cell_type": "code",
   "execution_count": 6,
   "metadata": {},
   "outputs": [],
   "source": [
    "class Classifier(nn.Module):\n",
    "    def __init__(self, n_classes):\n",
    "        super(Classifier, self).__init__()\n",
    "        self.n_classes = n_classes\n",
    "        self.features = se_resnet101()\n",
    "        self.classifier = nn.Linear(2048, n_classes)\n",
    "\n",
    "    def forward(self, x):\n",
    "        x = self.features(x)\n",
    "        x = self.classifier(x)\n",
    "        return x\n",
    "\n",
    "class ModelWithLoss(nn.Module):\n",
    "    def __init__(self, classifier):\n",
    "        super(ModelWithLoss, self).__init__()\n",
    "        self.classifier = classifier\n",
    "        self.criterion = nn.CrossEntropyLoss(size_average=False)\n",
    "\n",
    "    def forward(self, x, labels):\n",
    "        assert len(x) == len(labels)\n",
    "\n",
    "        predictions = self.classifier(x)\n",
    "\n",
    "        all_classes = np.arange(self.classifier.n_classes, dtype=np.int64)\n",
    "        zero_label = torch.tensor([0]).to(x.device)\n",
    "\n",
    "        loss = 0\n",
    "        denominator = 0\n",
    "        for prediction, positives in zip(predictions, labels):\n",
    "            negatives = np.setdiff1d(all_classes, positives, assume_unique=True)\n",
    "            negatives_tensor = torch.tensor(negatives).to(x.device)\n",
    "            positives_tensor = torch.tensor(positives).to(x.device).unsqueeze(dim=1)\n",
    "\n",
    "            for positive in positives_tensor:\n",
    "                indices = torch.cat((positive, negatives_tensor))\n",
    "                loss = loss + self.criterion(prediction[indices].unsqueeze(dim=0), zero_label)\n",
    "                denominator += 1\n",
    "\n",
    "        loss /= denominator\n",
    "\n",
    "        return loss\n",
    "\n",
    "    def predict(self, x):\n",
    "        input_shape = x.shape\n",
    "        if len(input_shape) == 5:\n",
    "            x = x.view(-1, input_shape[2], input_shape[3], input_shape[4])\n",
    "            predictions = self.classifier(x)\n",
    "            predictions = predictions.view(input_shape[0], input_shape[1], -1).mean(dim=1)\n",
    "        else:\n",
    "            predictions = self.classifier(x)\n",
    "\n",
    "        return predictions"
   ]
  },
  {
   "cell_type": "code",
   "execution_count": 7,
   "metadata": {},
   "outputs": [
    {
     "name": "stderr",
     "output_type": "stream",
     "text": [
      "/scratch/ac8184/myjupyter/rds_project/rds/lib/python3.6/site-packages/ipykernel_launcher.py:2: YAMLLoadWarning: calling yaml.load() without Loader=... is deprecated, as the default Loader is unsafe. Please read https://msg.pyyaml.org/load for full details.\n",
      "  \n"
     ]
    }
   ],
   "source": [
    "with open(CONFIG_PATH, 'r') as f:\n",
    "    config = yaml.load(f)"
   ]
  },
  {
   "cell_type": "code",
   "execution_count": 8,
   "metadata": {},
   "outputs": [],
   "source": [
    "dataset_root = config['DATASET']['STAGE2_TEST_IMAGES_ROOT']"
   ]
  },
  {
   "cell_type": "code",
   "execution_count": 9,
   "metadata": {},
   "outputs": [],
   "source": [
    "with open(config['DATASET']['NAME_TO_LABEL_PATH'], 'rb') as f:\n",
    "    name_to_label = pickle.load(f)\n",
    "label_to_name = {label: name for name, label in name_to_label.items()}\n",
    "n_classes = len(name_to_label)"
   ]
  },
  {
   "cell_type": "code",
   "execution_count": 10,
   "metadata": {
    "scrolled": true
   },
   "outputs": [
    {
     "name": "stderr",
     "output_type": "stream",
     "text": [
      "/scratch/ac8184/myjupyter/rds_project/rds/lib/python3.6/site-packages/torch/nn/_reduction.py:43: UserWarning: size_average and reduce args will be deprecated, please use reduction='sum' instead.\n",
      "  warnings.warn(warning.format(ret))\n"
     ]
    }
   ],
   "source": [
    "classifier = Classifier(n_classes)\n",
    "model = ModelWithLoss(classifier).to(device).eval()"
   ]
  },
  {
   "cell_type": "code",
   "execution_count": 11,
   "metadata": {},
   "outputs": [
    {
     "data": {
      "text/plain": [
       "<All keys matched successfully>"
      ]
     },
     "execution_count": 11,
     "metadata": {},
     "output_type": "execute_result"
    }
   ],
   "source": [
    "snapshot_path = os.path.join(config['TUNING']['ARTIFACTS_ROOT'], 'snapshots',\n",
    "                                 'snapshot_epoch_{}.pth.tar'.format(config['TUNING']['N_EPOCH']))\n",
    "state = torch.load(snapshot_path, map_location=lambda storage, loc: storage)\n",
    "model.load_state_dict(state['model'])"
   ]
  },
  {
   "cell_type": "code",
   "execution_count": 12,
   "metadata": {},
   "outputs": [],
   "source": [
    "normalize = T.Normalize(mean=[0.485, 0.456, 0.406], std=[0.229, 0.224, 0.225])\n",
    "to_tensor = T.Compose([T.ToTensor(), normalize])"
   ]
  },
  {
   "cell_type": "code",
   "execution_count": 13,
   "metadata": {},
   "outputs": [],
   "source": [
    "description = pd.read_csv('./class-descriptions2.csv')\n",
    "label_lookup = {label: descr for label, descr in zip(description.label_code.values, description.description.values)}"
   ]
  },
  {
   "cell_type": "code",
   "execution_count": 14,
   "metadata": {},
   "outputs": [],
   "source": [
    "def get_image(path):\n",
    "    with open(os.path.abspath(path), 'rb') as f:\n",
    "        with Image.open(f) as img:\n",
    "            return img.convert('RGB')"
   ]
  },
  {
   "cell_type": "code",
   "execution_count": 15,
   "metadata": {
    "scrolled": true
   },
   "outputs": [],
   "source": [
    "def run_pred(path):    \n",
    "    img = get_image(path)\n",
    "    transform = T.Compose([T.Resize(256),T.CenterCrop(224),\n",
    "                           to_tensor])\n",
    "    img1 = transform(img)\n",
    "    img1 = img1.unsqueeze(0)\n",
    "\n",
    "    with torch.no_grad():\n",
    "        pred_scores = model.predict(img1.to(device))\n",
    "        return pred_scores"
   ]
  },
  {
   "cell_type": "code",
   "execution_count": 16,
   "metadata": {},
   "outputs": [],
   "source": [
    "def detailed_preds(path):\n",
    "    probs = run_pred(path)\n",
    "    scores, labels = probs.sort(dim=1, descending=True)\n",
    "    names = [label_lookup[label_to_name[label.item()]] for label in labels[0]]\n",
    "    return names"
   ]
  },
  {
   "cell_type": "markdown",
   "metadata": {},
   "source": [
    "get label numbers of man,boy,girl,woman"
   ]
  },
  {
   "cell_type": "code",
   "execution_count": 17,
   "metadata": {},
   "outputs": [
    {
     "name": "stdout",
     "output_type": "stream",
     "text": [
      "Man 10693    /m/04yx4\n",
      "Name: label_code, dtype: object\n",
      "Woman 7212    /m/03bt1vf\n",
      "Name: label_code, dtype: object\n",
      "Boy 876    /m/01bl7v\n",
      "Name: label_code, dtype: object\n",
      "Girl 11877    /m/05r655\n",
      "Name: label_code, dtype: object\n"
     ]
    }
   ],
   "source": [
    "print(\"Man\", description[description.description == 'Man'].label_code)\n",
    "print(\"Woman\", description[description.description == 'Woman'].label_code)\n",
    "print(\"Boy\", description[description.description == 'Boy'].label_code)\n",
    "print(\"Girl\", description[description.description == 'Girl'].label_code)"
   ]
  },
  {
   "cell_type": "code",
   "execution_count": 18,
   "metadata": {},
   "outputs": [
    {
     "name": "stdout",
     "output_type": "stream",
     "text": [
      "Man 54\n",
      "Woman 41\n",
      "Boy 9\n",
      "Girl 58\n"
     ]
    }
   ],
   "source": [
    "print(\"Man\", name_to_label['/m/04yx4'])\n",
    "print(\"Woman\", name_to_label['/m/03bt1vf'])\n",
    "print(\"Boy\", name_to_label['/m/01bl7v'])\n",
    "print(\"Girl\", name_to_label['/m/05r655'])"
   ]
  },
  {
   "cell_type": "markdown",
   "metadata": {},
   "source": [
    "# MR2 stuff (need to get the names value)"
   ]
  },
  {
   "cell_type": "code",
   "execution_count": 19,
   "metadata": {},
   "outputs": [],
   "source": [
    "mr2_data = pd.read_csv(MR2_DATASET_CSV_PATH)\n",
    "y_pred = []\n",
    "\n",
    "# 0 = Female, 1 = Male\n",
    "labels_list = {\n",
    "    \"Girl\" : 0, \n",
    "    \"Woman\" : 0,\n",
    "    \"Man\" : 1,\n",
    "    \"Boy\" : 1\n",
    "}"
   ]
  },
  {
   "cell_type": "code",
   "execution_count": 20,
   "metadata": {},
   "outputs": [],
   "source": [
    "for name in mr2_data.name:\n",
    "    prediction_list = detailed_preds(MR2_FACES_DATA_PATH + name +\".tif\")\n",
    "    for pred_name in prediction_list:\n",
    "        if pred_name in labels_list.keys():\n",
    "            y_pred.append(labels_list[pred_name])\n",
    "            break\n",
    "mr2_data[PRED_KEY] = y_pred"
   ]
  },
  {
   "cell_type": "code",
   "execution_count": 21,
   "metadata": {},
   "outputs": [],
   "source": [
    "def flagPredictions():\n",
    "    mr2_data[FLAGGED_KEY] = [False]*mr2_data.shape[0]\n",
    "    mr2_data.loc[(mr2_data[PRED_KEY] == 1) & (mr2_data['sex'] == \"Female\"), FLAGGED_KEY] = True\n",
    "    mr2_data.loc[(mr2_data[PRED_KEY] == 0) & (mr2_data['sex'] == \"Male\"), FLAGGED_KEY] = True"
   ]
  },
  {
   "cell_type": "code",
   "execution_count": 22,
   "metadata": {},
   "outputs": [],
   "source": [
    "flagPredictions()"
   ]
  },
  {
   "cell_type": "code",
   "execution_count": 23,
   "metadata": {
    "scrolled": false
   },
   "outputs": [
    {
     "data": {
      "text/html": [
       "<div>\n",
       "<style scoped>\n",
       "    .dataframe tbody tr th:only-of-type {\n",
       "        vertical-align: middle;\n",
       "    }\n",
       "\n",
       "    .dataframe tbody tr th {\n",
       "        vertical-align: top;\n",
       "    }\n",
       "\n",
       "    .dataframe thead th {\n",
       "        text-align: right;\n",
       "    }\n",
       "</style>\n",
       "<table border=\"1\" class=\"dataframe\">\n",
       "  <thead>\n",
       "    <tr style=\"text-align: right;\">\n",
       "      <th></th>\n",
       "      <th>name</th>\n",
       "      <th>race</th>\n",
       "      <th>sex</th>\n",
       "      <th>Predicted Gender</th>\n",
       "      <th>Flagged</th>\n",
       "    </tr>\n",
       "  </thead>\n",
       "  <tbody>\n",
       "    <tr>\n",
       "      <th>4</th>\n",
       "      <td>af12</td>\n",
       "      <td>Asian</td>\n",
       "      <td>Female</td>\n",
       "      <td>1</td>\n",
       "      <td>True</td>\n",
       "    </tr>\n",
       "    <tr>\n",
       "      <th>6</th>\n",
       "      <td>wf02</td>\n",
       "      <td>European</td>\n",
       "      <td>Female</td>\n",
       "      <td>1</td>\n",
       "      <td>True</td>\n",
       "    </tr>\n",
       "    <tr>\n",
       "      <th>7</th>\n",
       "      <td>af10</td>\n",
       "      <td>Asian</td>\n",
       "      <td>Female</td>\n",
       "      <td>1</td>\n",
       "      <td>True</td>\n",
       "    </tr>\n",
       "    <tr>\n",
       "      <th>8</th>\n",
       "      <td>af04</td>\n",
       "      <td>Asian</td>\n",
       "      <td>Female</td>\n",
       "      <td>1</td>\n",
       "      <td>True</td>\n",
       "    </tr>\n",
       "    <tr>\n",
       "      <th>11</th>\n",
       "      <td>af05</td>\n",
       "      <td>Asian</td>\n",
       "      <td>Female</td>\n",
       "      <td>1</td>\n",
       "      <td>True</td>\n",
       "    </tr>\n",
       "    <tr>\n",
       "      <th>22</th>\n",
       "      <td>wf10</td>\n",
       "      <td>European</td>\n",
       "      <td>Female</td>\n",
       "      <td>1</td>\n",
       "      <td>True</td>\n",
       "    </tr>\n",
       "    <tr>\n",
       "      <th>29</th>\n",
       "      <td>af03</td>\n",
       "      <td>Asian</td>\n",
       "      <td>Female</td>\n",
       "      <td>1</td>\n",
       "      <td>True</td>\n",
       "    </tr>\n",
       "    <tr>\n",
       "      <th>30</th>\n",
       "      <td>wf07</td>\n",
       "      <td>European</td>\n",
       "      <td>Female</td>\n",
       "      <td>1</td>\n",
       "      <td>True</td>\n",
       "    </tr>\n",
       "    <tr>\n",
       "      <th>32</th>\n",
       "      <td>bf08</td>\n",
       "      <td>Black</td>\n",
       "      <td>Female</td>\n",
       "      <td>1</td>\n",
       "      <td>True</td>\n",
       "    </tr>\n",
       "    <tr>\n",
       "      <th>36</th>\n",
       "      <td>bf18</td>\n",
       "      <td>Black</td>\n",
       "      <td>Female</td>\n",
       "      <td>1</td>\n",
       "      <td>True</td>\n",
       "    </tr>\n",
       "    <tr>\n",
       "      <th>37</th>\n",
       "      <td>bf14</td>\n",
       "      <td>Black</td>\n",
       "      <td>Female</td>\n",
       "      <td>1</td>\n",
       "      <td>True</td>\n",
       "    </tr>\n",
       "    <tr>\n",
       "      <th>42</th>\n",
       "      <td>bf01</td>\n",
       "      <td>Black</td>\n",
       "      <td>Female</td>\n",
       "      <td>1</td>\n",
       "      <td>True</td>\n",
       "    </tr>\n",
       "    <tr>\n",
       "      <th>43</th>\n",
       "      <td>bf15</td>\n",
       "      <td>Black</td>\n",
       "      <td>Female</td>\n",
       "      <td>1</td>\n",
       "      <td>True</td>\n",
       "    </tr>\n",
       "    <tr>\n",
       "      <th>45</th>\n",
       "      <td>bf17</td>\n",
       "      <td>Black</td>\n",
       "      <td>Female</td>\n",
       "      <td>1</td>\n",
       "      <td>True</td>\n",
       "    </tr>\n",
       "    <tr>\n",
       "      <th>50</th>\n",
       "      <td>bf02</td>\n",
       "      <td>Black</td>\n",
       "      <td>Female</td>\n",
       "      <td>1</td>\n",
       "      <td>True</td>\n",
       "    </tr>\n",
       "    <tr>\n",
       "      <th>51</th>\n",
       "      <td>bf06</td>\n",
       "      <td>Black</td>\n",
       "      <td>Female</td>\n",
       "      <td>1</td>\n",
       "      <td>True</td>\n",
       "    </tr>\n",
       "    <tr>\n",
       "      <th>52</th>\n",
       "      <td>bf12</td>\n",
       "      <td>Black</td>\n",
       "      <td>Female</td>\n",
       "      <td>1</td>\n",
       "      <td>True</td>\n",
       "    </tr>\n",
       "    <tr>\n",
       "      <th>58</th>\n",
       "      <td>bf13</td>\n",
       "      <td>Black</td>\n",
       "      <td>Female</td>\n",
       "      <td>1</td>\n",
       "      <td>True</td>\n",
       "    </tr>\n",
       "    <tr>\n",
       "      <th>59</th>\n",
       "      <td>bf07</td>\n",
       "      <td>Black</td>\n",
       "      <td>Female</td>\n",
       "      <td>1</td>\n",
       "      <td>True</td>\n",
       "    </tr>\n",
       "    <tr>\n",
       "      <th>60</th>\n",
       "      <td>bf11</td>\n",
       "      <td>Black</td>\n",
       "      <td>Female</td>\n",
       "      <td>1</td>\n",
       "      <td>True</td>\n",
       "    </tr>\n",
       "    <tr>\n",
       "      <th>61</th>\n",
       "      <td>bf05</td>\n",
       "      <td>Black</td>\n",
       "      <td>Female</td>\n",
       "      <td>1</td>\n",
       "      <td>True</td>\n",
       "    </tr>\n",
       "    <tr>\n",
       "      <th>67</th>\n",
       "      <td>bf10</td>\n",
       "      <td>Black</td>\n",
       "      <td>Female</td>\n",
       "      <td>1</td>\n",
       "      <td>True</td>\n",
       "    </tr>\n",
       "    <tr>\n",
       "      <th>72</th>\n",
       "      <td>af08</td>\n",
       "      <td>Asian</td>\n",
       "      <td>Female</td>\n",
       "      <td>1</td>\n",
       "      <td>True</td>\n",
       "    </tr>\n",
       "  </tbody>\n",
       "</table>\n",
       "</div>"
      ],
      "text/plain": [
       "    name      race     sex  Predicted Gender  Flagged\n",
       "4   af12     Asian  Female                 1     True\n",
       "6   wf02  European  Female                 1     True\n",
       "7   af10     Asian  Female                 1     True\n",
       "8   af04     Asian  Female                 1     True\n",
       "11  af05     Asian  Female                 1     True\n",
       "22  wf10  European  Female                 1     True\n",
       "29  af03     Asian  Female                 1     True\n",
       "30  wf07  European  Female                 1     True\n",
       "32  bf08     Black  Female                 1     True\n",
       "36  bf18     Black  Female                 1     True\n",
       "37  bf14     Black  Female                 1     True\n",
       "42  bf01     Black  Female                 1     True\n",
       "43  bf15     Black  Female                 1     True\n",
       "45  bf17     Black  Female                 1     True\n",
       "50  bf02     Black  Female                 1     True\n",
       "51  bf06     Black  Female                 1     True\n",
       "52  bf12     Black  Female                 1     True\n",
       "58  bf13     Black  Female                 1     True\n",
       "59  bf07     Black  Female                 1     True\n",
       "60  bf11     Black  Female                 1     True\n",
       "61  bf05     Black  Female                 1     True\n",
       "67  bf10     Black  Female                 1     True\n",
       "72  af08     Asian  Female                 1     True"
      ]
     },
     "execution_count": 23,
     "metadata": {},
     "output_type": "execute_result"
    }
   ],
   "source": [
    "mr2_data[(mr2_data[FLAGGED_KEY] == True) & (mr2_data[\"sex\"] == \"Female\")]"
   ]
  },
  {
   "cell_type": "markdown",
   "metadata": {},
   "source": [
    "# Fairness"
   ]
  },
  {
   "cell_type": "code",
   "execution_count": 24,
   "metadata": {},
   "outputs": [],
   "source": [
    "from sklearn.metrics import confusion_matrix"
   ]
  },
  {
   "cell_type": "markdown",
   "metadata": {},
   "source": [
    "# Confusion Matrix"
   ]
  },
  {
   "cell_type": "code",
   "execution_count": 106,
   "metadata": {},
   "outputs": [],
   "source": [
    "def getConfusionMatrix(data_df, pred_key):\n",
    "    confusionMatrix = confusion_matrix(data_df[\"sex\"].tolist(), data_df[pred_key].tolist())\n",
    "    print(confusionMatrix)\n",
    "    return confusionMatrix"
   ]
  },
  {
   "cell_type": "markdown",
   "metadata": {},
   "source": [
    "# FPR Analysis"
   ]
  },
  {
   "cell_type": "code",
   "execution_count": 33,
   "metadata": {},
   "outputs": [],
   "source": [
    "def fpr_analysis(confusionMatrix):\n",
    "    ff, fm, mf, mm = confusionMatrix.ravel()\n",
    "    FPR_FEMALE = fm/(fm+ff)\n",
    "    FPR_MALE = mf/(mm+mf)\n",
    "    print(\"FPR Female : \", FPR_FEMALE)\n",
    "    print(\"FPR Male : \", FPR_MALE)\n",
    "    print(\"FPR Difference (Female - Male) : \", FPR_FEMALE - FPR_MALE)"
   ]
  },
  {
   "cell_type": "markdown",
   "metadata": {},
   "source": [
    "# Disparate Impact"
   ]
  },
  {
   "cell_type": "code",
   "execution_count": 47,
   "metadata": {},
   "outputs": [],
   "source": [
    "def disparate_impact(confusionMatrix):\n",
    "    ff, fm, mf, mm = confusionMatrix.ravel()\n",
    "    di = ((ff)/(fm+ff))/(mm/(mm + mf))\n",
    "    print (\"Disparate Impact : \", di)\n",
    "    return di"
   ]
  },
  {
   "cell_type": "markdown",
   "metadata": {},
   "source": [
    "# Nutritional Labels\n"
   ]
  },
  {
   "cell_type": "code",
   "execution_count": 116,
   "metadata": {},
   "outputs": [],
   "source": [
    "def accuracy_metrics(data_df, pred_key):\n",
    "    df_copy = data_df[[\"sex\", pred_key]]\n",
    "    df_copy.loc[df_copy[\"sex\"] == \"Female\", \"sex\"] = 0\n",
    "    df_copy.loc[df_copy[\"sex\"] == \"Male\", \"sex\"] = 1\n",
    "    confusionMatrix = getConfusionMatrix(df_copy, pred_key)\n",
    "    fpr_analysis(confusionMatrix)\n",
    "    disparate_impact(confusionMatrix)"
   ]
  },
  {
   "cell_type": "code",
   "execution_count": 115,
   "metadata": {},
   "outputs": [],
   "source": [
    "def getMetricsCompleteAndByRace(data_df, pred_key):\n",
    "    print(\"-\"*32)\n",
    "    accuracy_metrics(data_df, pred_key)\n",
    "    print(\"-\"*32)\n",
    "    print(\"\\n Comparision For Individual Race\")\n",
    "    for r in race:\n",
    "        print(\"-\"*12 + r + \"-\"*12)\n",
    "        accuracy_metrics(data_df.loc[data_df[\"race\"] == r], pred_key)\n",
    "        print(\"-\"*32)\n",
    "        print(\"\\n\")"
   ]
  },
  {
   "cell_type": "code",
   "execution_count": 127,
   "metadata": {},
   "outputs": [],
   "source": [
    "def getDataMetricsRace(data_df, protected_race, privelege_race, pred_key):\n",
    "    correct_classifications_protected = data_df.loc[(data_df[\"race\"] == protected_race) & (data_df[pred_key] == 0)].shape[0]\n",
    "    incorrect_classifications_protected = data_df.loc[(data_df[\"race\"] == protected_race) & (data_df[pred_key] == 1)].shape[0]\n",
    "    correct_classifications_privileged = data_df.loc[(data_df[\"race\"] == privelege_race) & (data_df[pred_key] == 0)].shape[0]\n",
    "    incorrect_classifications_privileged = data_df.loc[(data_df[\"race\"] == privelege_race) & (data_df[pred_key] == 1)].shape[0]\n",
    "\n",
    "    FPR_protected = incorrect_classifications_protected/(correct_classifications_protected + incorrect_classifications_protected)\n",
    "    FPR_privileged = incorrect_classifications_privileged/(correct_classifications_privileged + incorrect_classifications_privileged)\n",
    "    print(\"FPR protected : \", FPR_protected)\n",
    "    print(\"FPR privileged : \", FPR_privileged)\n",
    "    print(\"FPR Difference (Protected - Privileged) : \", FPR_protected - FPR_privileged)\n",
    "    if (FPR_privileged != 1):\n",
    "        disparate_impact = (1-FPR_protected)/(1-FPR_privileged)\n",
    "    else:\n",
    "        disparate_impact = np.nan\n",
    "    print(\"Disparate Impact : \", disparate_impact)"
   ]
  },
  {
   "cell_type": "code",
   "execution_count": 114,
   "metadata": {},
   "outputs": [],
   "source": [
    "def getAllRaceMetrics(data_df, pred_key):\n",
    "    for r in race:\n",
    "        if r == \"European\":\n",
    "            continue\n",
    "        print(\"-\"*12 + r + \"-\"*12)\n",
    "        getDataMetricsRace(data_df, r, \"European\", pred_key)\n",
    "        print(\"-\"*32)\n",
    "        print(\"\\n\")\n",
    "    "
   ]
  },
  {
   "cell_type": "markdown",
   "metadata": {},
   "source": [
    "# Baseline Model"
   ]
  },
  {
   "cell_type": "code",
   "execution_count": 101,
   "metadata": {},
   "outputs": [],
   "source": [
    "#Load MODEL\n",
    "model_ft = torchvision.models.resnet18(pretrained=True)\n",
    "num_ftrs = model_ft.fc.in_features\n",
    "# Here the size of each output sample is set to 2.\n",
    "# Alternatively, it can be generalized to nn.Linear(num_ftrs, len(class_names)).\n",
    "model_ft.fc = nn.Linear(num_ftrs, 2)\n",
    "\n",
    "#trained separately using ResNet18 architecture and CelebA dataset\n",
    "#Model available here https://tinyurl.com/y9znjo4v\n",
    "model_ft.load_state_dict(torch.load(\"./models/resnet_ft.pth\", map_location=torch.device(device)))\n",
    "model_ft.eval()\n",
    "model_ft = model_ft.to(device)\n"
   ]
  },
  {
   "cell_type": "code",
   "execution_count": 86,
   "metadata": {},
   "outputs": [],
   "source": [
    "def run_baseline_pred(path):    \n",
    "    img = get_image(path)\n",
    "    transform = T.Compose([T.CenterCrop((178, 178)),\n",
    "                           T.Resize((128, 128)),\n",
    "                           T.ToTensor()])\n",
    "    img1 = transform(img)\n",
    "    img1 = img1.unsqueeze(0)\n",
    "\n",
    "    with torch.no_grad():\n",
    "        x = model_ft(img1.to(device))\n",
    "        pred_scores = F.softmax(x, dim=1)\n",
    "        return pred_scores"
   ]
  },
  {
   "cell_type": "code",
   "execution_count": null,
   "metadata": {},
   "outputs": [],
   "source": [
    "y_pred = []\n",
    "for name in mr2_data.name:\n",
    "    res = run_baseline_pred(MR2_FACES_DATA_PATH + name + \".tif\")\n",
    "    print(name)\n",
    "    if res[0][0] > res[0][1]:\n",
    "        y_pred.append(0)\n",
    "    else:\n",
    "        y_pred.append(1)\n",
    "mr2_data[BASE_PRED_KEY] = y_pred"
   ]
  },
  {
   "cell_type": "markdown",
   "metadata": {},
   "source": [
    "# Metrics : Baseline Model and Kaggle ADS"
   ]
  },
  {
   "cell_type": "code",
   "execution_count": 103,
   "metadata": {},
   "outputs": [
    {
     "name": "stdout",
     "output_type": "stream",
     "text": [
      "ADS Nutrition Labels\n",
      "--------------------------------\n",
      "[[18 23]\n",
      " [ 0 33]]\n",
      "FPR Female :  0.5609756097560976\n",
      "FPR Male :  0.0\n",
      "FPR Difference (Female - Male) :  0.5609756097560976\n",
      "Disparate Impact :  0.43902439024390244\n",
      "--------------------------------\n",
      "\n",
      " Comparision For Individual Race\n",
      "------------Black------------\n",
      "[[ 4 14]\n",
      " [ 0 14]]\n",
      "FPR Female :  0.7777777777777778\n",
      "FPR Male :  0.0\n",
      "FPR Difference (Female - Male) :  0.7777777777777778\n",
      "Disparate Impact :  0.2222222222222222\n",
      "--------------------------------\n",
      "\n",
      "\n",
      "------------Asian------------\n",
      "[[6 6]\n",
      " [0 8]]\n",
      "FPR Female :  0.5\n",
      "FPR Male :  0.0\n",
      "FPR Difference (Female - Male) :  0.5\n",
      "Disparate Impact :  0.5\n",
      "--------------------------------\n",
      "\n",
      "\n",
      "------------European------------\n",
      "[[ 8  3]\n",
      " [ 0 11]]\n",
      "FPR Female :  0.2727272727272727\n",
      "FPR Male :  0.0\n",
      "FPR Difference (Female - Male) :  0.2727272727272727\n",
      "Disparate Impact :  0.7272727272727273\n",
      "--------------------------------\n",
      "\n",
      "\n"
     ]
    },
    {
     "name": "stderr",
     "output_type": "stream",
     "text": [
      "/scratch/ac8184/myjupyter/rds_project/rds/lib/python3.6/site-packages/pandas/core/indexing.py:966: SettingWithCopyWarning: \n",
      "A value is trying to be set on a copy of a slice from a DataFrame.\n",
      "Try using .loc[row_indexer,col_indexer] = value instead\n",
      "\n",
      "See the caveats in the documentation: https://pandas.pydata.org/pandas-docs/stable/user_guide/indexing.html#returning-a-view-versus-a-copy\n",
      "  self.obj[item] = s\n"
     ]
    }
   ],
   "source": [
    "print(\"ADS Nutrition Labels\")\n",
    "getMetricsCompleteAndByRace(mr2_data, PRED_KEY)"
   ]
  },
  {
   "cell_type": "code",
   "execution_count": 108,
   "metadata": {},
   "outputs": [
    {
     "name": "stdout",
     "output_type": "stream",
     "text": [
      "Baseline Nutrition Labels\n",
      "--------------------------------\n",
      "[[ 4 37]\n",
      " [ 1 32]]\n",
      "FPR Female :  0.9024390243902439\n",
      "FPR Male :  0.030303030303030304\n",
      "FPR Difference (Female - Male) :  0.8721359940872137\n",
      "Disparate Impact :  0.10060975609756098\n",
      "--------------------------------\n",
      "\n",
      " Comparision For Individual Race\n",
      "------------Black------------\n",
      "[[ 2 16]\n",
      " [ 1 13]]\n",
      "FPR Female :  0.8888888888888888\n",
      "FPR Male :  0.07142857142857142\n",
      "FPR Difference (Female - Male) :  0.8174603174603174\n",
      "Disparate Impact :  0.11965811965811965\n",
      "--------------------------------\n",
      "\n",
      "\n",
      "------------Asian------------\n",
      "[[ 2 10]\n",
      " [ 0  8]]\n",
      "FPR Female :  0.8333333333333334\n",
      "FPR Male :  0.0\n",
      "FPR Difference (Female - Male) :  0.8333333333333334\n",
      "Disparate Impact :  0.16666666666666666\n",
      "--------------------------------\n",
      "\n",
      "\n",
      "------------European------------\n",
      "[[ 0 11]\n",
      " [ 0 11]]\n",
      "FPR Female :  1.0\n",
      "FPR Male :  0.0\n",
      "FPR Difference (Female - Male) :  1.0\n",
      "Disparate Impact :  0.0\n",
      "--------------------------------\n",
      "\n",
      "\n"
     ]
    }
   ],
   "source": [
    "print(\"Baseline Nutrition Labels\")\n",
    "getMetricsCompleteAndByRace(mr2_data, BASE_PRED_KEY)"
   ]
  },
  {
   "cell_type": "code",
   "execution_count": 109,
   "metadata": {},
   "outputs": [],
   "source": [
    "female_only_data = mr2_data.loc[mr2_data[\"sex\"] == \"Female\"]"
   ]
  },
  {
   "cell_type": "code",
   "execution_count": 117,
   "metadata": {},
   "outputs": [
    {
     "name": "stdout",
     "output_type": "stream",
     "text": [
      "------------Black------------\n",
      "FPR protected :  0.7777777777777778\n",
      "FPR privileged :  0.2727272727272727\n",
      "FPR Difference (Protected - Privileged) :  0.5050505050505051\n",
      "Disparate Impact :  0.3055555555555555\n",
      "--------------------------------\n",
      "\n",
      "\n",
      "------------Asian------------\n",
      "FPR protected :  0.5\n",
      "FPR privileged :  0.2727272727272727\n",
      "FPR Difference (Protected - Privileged) :  0.2272727272727273\n",
      "Disparate Impact :  0.6875\n",
      "--------------------------------\n",
      "\n",
      "\n"
     ]
    }
   ],
   "source": [
    "getAllRaceMetrics(female_only_data, PRED_KEY)"
   ]
  },
  {
   "cell_type": "code",
   "execution_count": 128,
   "metadata": {},
   "outputs": [
    {
     "name": "stdout",
     "output_type": "stream",
     "text": [
      "------------Black------------\n",
      "FPR protected :  0.90625\n",
      "FPR privileged :  1.0\n",
      "FPR Difference (Protected - Privileged) :  -0.09375\n",
      "Disparate Impact :  nan\n",
      "--------------------------------\n",
      "\n",
      "\n",
      "------------Asian------------\n",
      "FPR protected :  0.9\n",
      "FPR privileged :  1.0\n",
      "FPR Difference (Protected - Privileged) :  -0.09999999999999998\n",
      "Disparate Impact :  nan\n",
      "--------------------------------\n",
      "\n",
      "\n"
     ]
    }
   ],
   "source": [
    "getAllRaceMetrics(mr2_data, BASE_PRED_KEY)"
   ]
  },
  {
   "cell_type": "markdown",
   "metadata": {},
   "source": [
    "# LIME"
   ]
  },
  {
   "cell_type": "code",
   "execution_count": 41,
   "metadata": {},
   "outputs": [],
   "source": [
    "def get_pil_transform(): \n",
    "    transf = T.Compose([\n",
    "        T.Resize((256, 256)),\n",
    "        T.CenterCrop(224)\n",
    "    ])    \n",
    "\n",
    "    return transf\n",
    "\n",
    "def get_preprocess_transform():\n",
    "    normalize = T.Normalize(mean=[0.485, 0.456, 0.406],\n",
    "                                    std=[0.229, 0.224, 0.225])     \n",
    "    transf = T.Compose([\n",
    "        T.ToTensor(),\n",
    "        normalize\n",
    "    ])    \n",
    "\n",
    "    return transf    \n",
    "\n",
    "pill_transf = get_pil_transform()\n",
    "preprocess_transform = get_preprocess_transform()"
   ]
  },
  {
   "cell_type": "code",
   "execution_count": 42,
   "metadata": {},
   "outputs": [],
   "source": [
    "def batch_pred(images):\n",
    "    batch = torch.stack(tuple(preprocess_transform(i) for i in images), dim=0)\n",
    "    with torch.no_grad():\n",
    "        pred_scores = model.predict(batch.to(device))\n",
    "        return pred_scores.detach().cpu().numpy()"
   ]
  },
  {
   "cell_type": "code",
   "execution_count": 43,
   "metadata": {},
   "outputs": [],
   "source": [
    "label_name_to_idx = {\n",
    "    \"Man\" : 54,\n",
    "    \"Woman\" : 41,\n",
    "    \"Boy\" : 9,\n",
    "    \"Girl\" : 58\n",
    "}\n",
    "\n",
    "def limeDescription(label_name, path):\n",
    "    img = get_image(path)\n",
    "    explainer = lime_image.LimeImageExplainer()\n",
    "    explanation = explainer.explain_instance(np.array(pill_transf(img)), \n",
    "                                             batch_pred, # classification function\n",
    "                                             top_labels=18155, # number of classes \n",
    "                                             hide_color=0, \n",
    "                                             num_samples=1000) # number of images that will be sent to classification function\n",
    "    temp, mask = explanation.get_image_and_mask(label_name_to_idx[label_name], positive_only=False, num_features=10, hide_rest=False)\n",
    "    img_boundry2 = mark_boundaries(temp/255.0, mask)\n",
    "    plt.imshow(img_boundry2)"
   ]
  },
  {
   "cell_type": "code",
   "execution_count": null,
   "metadata": {},
   "outputs": [],
   "source": [
    "def getAllLimeDescription(image_path):\n",
    "    for label_name in label_name_to_idx.keys():\n",
    "        print (label_name)\n",
    "        limeDescription(label_name, path)"
   ]
  },
  {
   "cell_type": "code",
   "execution_count": null,
   "metadata": {
    "scrolled": false
   },
   "outputs": [],
   "source": [
    "%%time\n",
    "get_lime_woman(\"../MR2 faces/af10.tif\")"
   ]
  },
  {
   "cell_type": "code",
   "execution_count": null,
   "metadata": {},
   "outputs": [],
   "source": [
    "get_lime_man(\"../MR2 faces/af10.tif\")"
   ]
  },
  {
   "cell_type": "code",
   "execution_count": null,
   "metadata": {
    "scrolled": true
   },
   "outputs": [],
   "source": [
    "get_lime_woman(\"../../MR2 faces/bf15.tif\")"
   ]
  },
  {
   "cell_type": "code",
   "execution_count": null,
   "metadata": {},
   "outputs": [],
   "source": [
    "get_lime_man(\"../../MR2 faces/bf15.tif\")"
   ]
  },
  {
   "cell_type": "code",
   "execution_count": null,
   "metadata": {
    "scrolled": true
   },
   "outputs": [],
   "source": [
    "get_lime_woman(\"../../MR2 faces/wf10.tif\")"
   ]
  },
  {
   "cell_type": "code",
   "execution_count": null,
   "metadata": {},
   "outputs": [],
   "source": [
    "get_lime_man(\"../../MR2 faces/wf10.tif\")"
   ]
  },
  {
   "cell_type": "code",
   "execution_count": null,
   "metadata": {},
   "outputs": [],
   "source": [
    "get_lime_woman(\"../../MR2 faces/wm06.tif\")"
   ]
  },
  {
   "cell_type": "code",
   "execution_count": null,
   "metadata": {},
   "outputs": [],
   "source": [
    "get_lime_man(\"../../MR2 faces/wm06.tif\")"
   ]
  },
  {
   "cell_type": "code",
   "execution_count": null,
   "metadata": {},
   "outputs": [],
   "source": [
    "get_lime_woman(\"../../MR2 faces/wf04.tif\")"
   ]
  },
  {
   "cell_type": "code",
   "execution_count": null,
   "metadata": {},
   "outputs": [],
   "source": [
    "get_lime_man(\"../../MR2 faces/wf04.tif\")"
   ]
  },
  {
   "cell_type": "code",
   "execution_count": null,
   "metadata": {},
   "outputs": [],
   "source": []
  }
 ],
 "metadata": {
  "kernelspec": {
   "display_name": "Python 3",
   "language": "python",
   "name": "python3"
  },
  "language_info": {
   "codemirror_mode": {
    "name": "ipython",
    "version": 3
   },
   "file_extension": ".py",
   "mimetype": "text/x-python",
   "name": "python",
   "nbconvert_exporter": "python",
   "pygments_lexer": "ipython3",
   "version": "3.6.3"
  }
 },
 "nbformat": 4,
 "nbformat_minor": 2
}
